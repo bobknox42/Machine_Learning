{
 "cells": [
  {
   "cell_type": "markdown",
   "metadata": {},
   "source": [
    "**Machine Learning Assignment 3**\n",
    "\n",
    "Bob Knox"
   ]
  },
  {
   "cell_type": "markdown",
   "metadata": {},
   "source": [
    "# Imports"
   ]
  },
  {
   "cell_type": "code",
   "execution_count": 1,
   "metadata": {},
   "outputs": [],
   "source": [
    "import numpy as np\n",
    "from numpy import linalg as LA\n",
    "import pandas as pd\n",
    "import os\n",
    "import itertools\n",
    "import matplotlib.pyplot as plt\n",
    "\n",
    "from sklearn.model_selection import train_test_split\n",
    "from sklearn.preprocessing import StandardScaler\n",
    "\n",
    "from sklearn.linear_model import LogisticRegression\n",
    "from sklearn.metrics import confusion_matrix, classification_report\n",
    "from sklearn.decomposition import PCA\n",
    "import time\n",
    "from operator import itemgetter"
   ]
  },
  {
   "cell_type": "markdown",
   "metadata": {},
   "source": [
    "# Get Data"
   ]
  },
  {
   "cell_type": "code",
   "execution_count": 2,
   "metadata": {},
   "outputs": [],
   "source": [
    "#read in the file\n",
    "df = pd.read_csv('ProviderInfo.csv',sep=',',header='infer',index_col=None)\n",
    "\n"
   ]
  },
  {
   "cell_type": "code",
   "execution_count": 3,
   "metadata": {},
   "outputs": [
    {
     "data": {
      "text/html": [
       "<div>\n",
       "<style scoped>\n",
       "    .dataframe tbody tr th:only-of-type {\n",
       "        vertical-align: middle;\n",
       "    }\n",
       "\n",
       "    .dataframe tbody tr th {\n",
       "        vertical-align: top;\n",
       "    }\n",
       "\n",
       "    .dataframe thead th {\n",
       "        text-align: right;\n",
       "    }\n",
       "</style>\n",
       "<table border=\"1\" class=\"dataframe\">\n",
       "  <thead>\n",
       "    <tr style=\"text-align: right;\">\n",
       "      <th></th>\n",
       "      <th>ZIP</th>\n",
       "      <th>PHONE</th>\n",
       "      <th>COUNTY_SSA</th>\n",
       "      <th>BEDCERT</th>\n",
       "      <th>RESTOT</th>\n",
       "      <th>OVERALL_RATING</th>\n",
       "      <th>SURVEY_RATING</th>\n",
       "      <th>QUALITY_RATING</th>\n",
       "      <th>STAFFING_RATING</th>\n",
       "      <th>RN_STAFFING_RATING</th>\n",
       "      <th>...</th>\n",
       "      <th>ADJ_AIDE</th>\n",
       "      <th>ADJ_LPN</th>\n",
       "      <th>ADJ_RN</th>\n",
       "      <th>ADJ_TOTAL</th>\n",
       "      <th>INCIDENT_CNT</th>\n",
       "      <th>CMPLNT_CNT</th>\n",
       "      <th>FINE_CNT</th>\n",
       "      <th>FINE_TOT</th>\n",
       "      <th>PAYDEN_CNT</th>\n",
       "      <th>TOT_PENLTY_CNT</th>\n",
       "    </tr>\n",
       "  </thead>\n",
       "  <tbody>\n",
       "    <tr>\n",
       "      <th>0</th>\n",
       "      <td>35653.0</td>\n",
       "      <td>2.563324e+09</td>\n",
       "      <td>290.0</td>\n",
       "      <td>57.0</td>\n",
       "      <td>51.5</td>\n",
       "      <td>5.0</td>\n",
       "      <td>5.0</td>\n",
       "      <td>5.0</td>\n",
       "      <td>4.0</td>\n",
       "      <td>4.0</td>\n",
       "      <td>...</td>\n",
       "      <td>3.11741</td>\n",
       "      <td>1.24750</td>\n",
       "      <td>0.83853</td>\n",
       "      <td>5.13047</td>\n",
       "      <td>0.0</td>\n",
       "      <td>0.0</td>\n",
       "      <td>0.0</td>\n",
       "      <td>0.0</td>\n",
       "      <td>0.0</td>\n",
       "      <td>0.0</td>\n",
       "    </tr>\n",
       "    <tr>\n",
       "      <th>1</th>\n",
       "      <td>35150.0</td>\n",
       "      <td>2.562496e+09</td>\n",
       "      <td>600.0</td>\n",
       "      <td>85.0</td>\n",
       "      <td>74.2</td>\n",
       "      <td>3.0</td>\n",
       "      <td>3.0</td>\n",
       "      <td>5.0</td>\n",
       "      <td>1.0</td>\n",
       "      <td>1.0</td>\n",
       "      <td>...</td>\n",
       "      <td>NaN</td>\n",
       "      <td>NaN</td>\n",
       "      <td>NaN</td>\n",
       "      <td>NaN</td>\n",
       "      <td>0.0</td>\n",
       "      <td>0.0</td>\n",
       "      <td>1.0</td>\n",
       "      <td>15259.0</td>\n",
       "      <td>1.0</td>\n",
       "      <td>2.0</td>\n",
       "    </tr>\n",
       "    <tr>\n",
       "      <th>2</th>\n",
       "      <td>35768.0</td>\n",
       "      <td>2.562184e+09</td>\n",
       "      <td>350.0</td>\n",
       "      <td>50.0</td>\n",
       "      <td>NaN</td>\n",
       "      <td>1.0</td>\n",
       "      <td>2.0</td>\n",
       "      <td>2.0</td>\n",
       "      <td>1.0</td>\n",
       "      <td>1.0</td>\n",
       "      <td>...</td>\n",
       "      <td>NaN</td>\n",
       "      <td>NaN</td>\n",
       "      <td>NaN</td>\n",
       "      <td>NaN</td>\n",
       "      <td>0.0</td>\n",
       "      <td>0.0</td>\n",
       "      <td>0.0</td>\n",
       "      <td>0.0</td>\n",
       "      <td>0.0</td>\n",
       "      <td>0.0</td>\n",
       "    </tr>\n",
       "    <tr>\n",
       "      <th>3</th>\n",
       "      <td>35206.0</td>\n",
       "      <td>2.058330e+09</td>\n",
       "      <td>360.0</td>\n",
       "      <td>92.0</td>\n",
       "      <td>79.8</td>\n",
       "      <td>2.0</td>\n",
       "      <td>2.0</td>\n",
       "      <td>4.0</td>\n",
       "      <td>3.0</td>\n",
       "      <td>3.0</td>\n",
       "      <td>...</td>\n",
       "      <td>2.40074</td>\n",
       "      <td>0.86962</td>\n",
       "      <td>0.56463</td>\n",
       "      <td>3.83026</td>\n",
       "      <td>0.0</td>\n",
       "      <td>1.0</td>\n",
       "      <td>0.0</td>\n",
       "      <td>0.0</td>\n",
       "      <td>0.0</td>\n",
       "      <td>0.0</td>\n",
       "    </tr>\n",
       "    <tr>\n",
       "      <th>4</th>\n",
       "      <td>35111.0</td>\n",
       "      <td>2.054776e+09</td>\n",
       "      <td>360.0</td>\n",
       "      <td>103.0</td>\n",
       "      <td>98.1</td>\n",
       "      <td>3.0</td>\n",
       "      <td>3.0</td>\n",
       "      <td>4.0</td>\n",
       "      <td>3.0</td>\n",
       "      <td>2.0</td>\n",
       "      <td>...</td>\n",
       "      <td>2.55126</td>\n",
       "      <td>1.08955</td>\n",
       "      <td>0.30360</td>\n",
       "      <td>3.95709</td>\n",
       "      <td>0.0</td>\n",
       "      <td>0.0</td>\n",
       "      <td>0.0</td>\n",
       "      <td>0.0</td>\n",
       "      <td>0.0</td>\n",
       "      <td>0.0</td>\n",
       "    </tr>\n",
       "  </tbody>\n",
       "</table>\n",
       "<p>5 rows × 30 columns</p>\n",
       "</div>"
      ],
      "text/plain": [
       "       ZIP         PHONE  COUNTY_SSA  BEDCERT  RESTOT  OVERALL_RATING  \\\n",
       "0  35653.0  2.563324e+09       290.0     57.0    51.5             5.0   \n",
       "1  35150.0  2.562496e+09       600.0     85.0    74.2             3.0   \n",
       "2  35768.0  2.562184e+09       350.0     50.0     NaN             1.0   \n",
       "3  35206.0  2.058330e+09       360.0     92.0    79.8             2.0   \n",
       "4  35111.0  2.054776e+09       360.0    103.0    98.1             3.0   \n",
       "\n",
       "   SURVEY_RATING  QUALITY_RATING  STAFFING_RATING  RN_STAFFING_RATING  \\\n",
       "0            5.0             5.0              4.0                 4.0   \n",
       "1            3.0             5.0              1.0                 1.0   \n",
       "2            2.0             2.0              1.0                 1.0   \n",
       "3            2.0             4.0              3.0                 3.0   \n",
       "4            3.0             4.0              3.0                 2.0   \n",
       "\n",
       "        ...        ADJ_AIDE  ADJ_LPN   ADJ_RN  ADJ_TOTAL  INCIDENT_CNT  \\\n",
       "0       ...         3.11741  1.24750  0.83853    5.13047           0.0   \n",
       "1       ...             NaN      NaN      NaN        NaN           0.0   \n",
       "2       ...             NaN      NaN      NaN        NaN           0.0   \n",
       "3       ...         2.40074  0.86962  0.56463    3.83026           0.0   \n",
       "4       ...         2.55126  1.08955  0.30360    3.95709           0.0   \n",
       "\n",
       "   CMPLNT_CNT  FINE_CNT  FINE_TOT  PAYDEN_CNT  TOT_PENLTY_CNT  \n",
       "0         0.0       0.0       0.0         0.0             0.0  \n",
       "1         0.0       1.0   15259.0         1.0             2.0  \n",
       "2         0.0       0.0       0.0         0.0             0.0  \n",
       "3         1.0       0.0       0.0         0.0             0.0  \n",
       "4         0.0       0.0       0.0         0.0             0.0  \n",
       "\n",
       "[5 rows x 30 columns]"
      ]
     },
     "execution_count": 3,
     "metadata": {},
     "output_type": "execute_result"
    }
   ],
   "source": [
    "#get just the numeric columns\n",
    "df_numeric = df.select_dtypes(np.number)\n",
    "df_numeric.head()"
   ]
  },
  {
   "cell_type": "code",
   "execution_count": 4,
   "metadata": {},
   "outputs": [
    {
     "data": {
      "text/plain": [
       "Index(['ZIP', 'PHONE', 'COUNTY_SSA', 'BEDCERT', 'RESTOT', 'OVERALL_RATING',\n",
       "       'SURVEY_RATING', 'QUALITY_RATING', 'STAFFING_RATING',\n",
       "       'RN_STAFFING_RATING', 'AIDHRD', 'VOCHRD', 'RNHRD', 'TOTLICHRD',\n",
       "       'TOTHRD', 'PTHRD', 'EXP_AIDE', 'EXP_LPN', 'EXP_RN', 'EXP_TOTAL',\n",
       "       'ADJ_AIDE', 'ADJ_LPN', 'ADJ_RN', 'ADJ_TOTAL', 'INCIDENT_CNT',\n",
       "       'CMPLNT_CNT', 'FINE_CNT', 'FINE_TOT', 'PAYDEN_CNT', 'TOT_PENLTY_CNT'],\n",
       "      dtype='object')"
      ]
     },
     "execution_count": 4,
     "metadata": {},
     "output_type": "execute_result"
    }
   ],
   "source": [
    "#review columns\n",
    "df_numeric.columns"
   ]
  },
  {
   "cell_type": "markdown",
   "metadata": {},
   "source": [
    "ZIP, PHONE, COUNTY_SSA can be removed"
   ]
  },
  {
   "cell_type": "code",
   "execution_count": 5,
   "metadata": {
    "scrolled": true
   },
   "outputs": [
    {
     "data": {
      "text/plain": [
       "Index(['BEDCERT', 'RESTOT', 'OVERALL_RATING', 'SURVEY_RATING',\n",
       "       'QUALITY_RATING', 'STAFFING_RATING', 'RN_STAFFING_RATING', 'AIDHRD',\n",
       "       'VOCHRD', 'RNHRD', 'TOTLICHRD', 'TOTHRD', 'PTHRD', 'EXP_AIDE',\n",
       "       'EXP_LPN', 'EXP_RN', 'EXP_TOTAL', 'ADJ_AIDE', 'ADJ_LPN', 'ADJ_RN',\n",
       "       'ADJ_TOTAL', 'INCIDENT_CNT', 'CMPLNT_CNT', 'FINE_CNT', 'FINE_TOT',\n",
       "       'PAYDEN_CNT', 'TOT_PENLTY_CNT'],\n",
       "      dtype='object')"
      ]
     },
     "execution_count": 5,
     "metadata": {},
     "output_type": "execute_result"
    }
   ],
   "source": [
    "df_numeric = df_numeric.drop(['ZIP','COUNTY_SSA','PHONE'],axis=1)\n",
    "df_numeric.columns"
   ]
  },
  {
   "cell_type": "markdown",
   "metadata": {},
   "source": [
    "# Handle NaN & NaT"
   ]
  },
  {
   "cell_type": "code",
   "execution_count": 6,
   "metadata": {},
   "outputs": [
    {
     "data": {
      "text/html": [
       "<div>\n",
       "<style scoped>\n",
       "    .dataframe tbody tr th:only-of-type {\n",
       "        vertical-align: middle;\n",
       "    }\n",
       "\n",
       "    .dataframe tbody tr th {\n",
       "        vertical-align: top;\n",
       "    }\n",
       "\n",
       "    .dataframe thead th {\n",
       "        text-align: right;\n",
       "    }\n",
       "</style>\n",
       "<table border=\"1\" class=\"dataframe\">\n",
       "  <thead>\n",
       "    <tr style=\"text-align: right;\">\n",
       "      <th></th>\n",
       "      <th>BEDCERT</th>\n",
       "      <th>RESTOT</th>\n",
       "      <th>OVERALL_RATING</th>\n",
       "      <th>SURVEY_RATING</th>\n",
       "      <th>QUALITY_RATING</th>\n",
       "      <th>STAFFING_RATING</th>\n",
       "      <th>RN_STAFFING_RATING</th>\n",
       "      <th>AIDHRD</th>\n",
       "      <th>VOCHRD</th>\n",
       "      <th>RNHRD</th>\n",
       "      <th>...</th>\n",
       "      <th>ADJ_AIDE</th>\n",
       "      <th>ADJ_LPN</th>\n",
       "      <th>ADJ_RN</th>\n",
       "      <th>ADJ_TOTAL</th>\n",
       "      <th>INCIDENT_CNT</th>\n",
       "      <th>CMPLNT_CNT</th>\n",
       "      <th>FINE_CNT</th>\n",
       "      <th>FINE_TOT</th>\n",
       "      <th>PAYDEN_CNT</th>\n",
       "      <th>TOT_PENLTY_CNT</th>\n",
       "    </tr>\n",
       "  </thead>\n",
       "  <tbody>\n",
       "    <tr>\n",
       "      <th>0</th>\n",
       "      <td>57.0</td>\n",
       "      <td>51.5</td>\n",
       "      <td>5.0</td>\n",
       "      <td>5.0</td>\n",
       "      <td>5.0</td>\n",
       "      <td>4.0</td>\n",
       "      <td>4.0</td>\n",
       "      <td>3.43572</td>\n",
       "      <td>1.16495</td>\n",
       "      <td>0.66830</td>\n",
       "      <td>...</td>\n",
       "      <td>3.11741</td>\n",
       "      <td>1.24750</td>\n",
       "      <td>0.83853</td>\n",
       "      <td>5.13047</td>\n",
       "      <td>0.0</td>\n",
       "      <td>0.0</td>\n",
       "      <td>0.0</td>\n",
       "      <td>0.0</td>\n",
       "      <td>0.0</td>\n",
       "      <td>0.0</td>\n",
       "    </tr>\n",
       "    <tr>\n",
       "      <th>3</th>\n",
       "      <td>92.0</td>\n",
       "      <td>79.8</td>\n",
       "      <td>2.0</td>\n",
       "      <td>2.0</td>\n",
       "      <td>4.0</td>\n",
       "      <td>3.0</td>\n",
       "      <td>3.0</td>\n",
       "      <td>2.32722</td>\n",
       "      <td>0.82104</td>\n",
       "      <td>0.52177</td>\n",
       "      <td>...</td>\n",
       "      <td>2.40074</td>\n",
       "      <td>0.86962</td>\n",
       "      <td>0.56463</td>\n",
       "      <td>3.83026</td>\n",
       "      <td>0.0</td>\n",
       "      <td>1.0</td>\n",
       "      <td>0.0</td>\n",
       "      <td>0.0</td>\n",
       "      <td>0.0</td>\n",
       "      <td>0.0</td>\n",
       "    </tr>\n",
       "    <tr>\n",
       "      <th>4</th>\n",
       "      <td>103.0</td>\n",
       "      <td>98.1</td>\n",
       "      <td>3.0</td>\n",
       "      <td>3.0</td>\n",
       "      <td>4.0</td>\n",
       "      <td>3.0</td>\n",
       "      <td>2.0</td>\n",
       "      <td>2.33617</td>\n",
       "      <td>0.92407</td>\n",
       "      <td>0.23493</td>\n",
       "      <td>...</td>\n",
       "      <td>2.55126</td>\n",
       "      <td>1.08955</td>\n",
       "      <td>0.30360</td>\n",
       "      <td>3.95709</td>\n",
       "      <td>0.0</td>\n",
       "      <td>0.0</td>\n",
       "      <td>0.0</td>\n",
       "      <td>0.0</td>\n",
       "      <td>0.0</td>\n",
       "      <td>0.0</td>\n",
       "    </tr>\n",
       "    <tr>\n",
       "      <th>5</th>\n",
       "      <td>149.0</td>\n",
       "      <td>119.7</td>\n",
       "      <td>5.0</td>\n",
       "      <td>3.0</td>\n",
       "      <td>5.0</td>\n",
       "      <td>4.0</td>\n",
       "      <td>3.0</td>\n",
       "      <td>2.57869</td>\n",
       "      <td>1.01443</td>\n",
       "      <td>0.41055</td>\n",
       "      <td>...</td>\n",
       "      <td>2.56783</td>\n",
       "      <td>1.04823</td>\n",
       "      <td>0.46444</td>\n",
       "      <td>4.07866</td>\n",
       "      <td>0.0</td>\n",
       "      <td>1.0</td>\n",
       "      <td>0.0</td>\n",
       "      <td>0.0</td>\n",
       "      <td>0.0</td>\n",
       "      <td>0.0</td>\n",
       "    </tr>\n",
       "    <tr>\n",
       "      <th>6</th>\n",
       "      <td>124.0</td>\n",
       "      <td>96.0</td>\n",
       "      <td>5.0</td>\n",
       "      <td>4.0</td>\n",
       "      <td>5.0</td>\n",
       "      <td>3.0</td>\n",
       "      <td>4.0</td>\n",
       "      <td>1.99985</td>\n",
       "      <td>0.62768</td>\n",
       "      <td>0.59598</td>\n",
       "      <td>...</td>\n",
       "      <td>2.12102</td>\n",
       "      <td>0.70311</td>\n",
       "      <td>0.75448</td>\n",
       "      <td>3.52979</td>\n",
       "      <td>1.0</td>\n",
       "      <td>1.0</td>\n",
       "      <td>0.0</td>\n",
       "      <td>0.0</td>\n",
       "      <td>0.0</td>\n",
       "      <td>0.0</td>\n",
       "    </tr>\n",
       "  </tbody>\n",
       "</table>\n",
       "<p>5 rows × 27 columns</p>\n",
       "</div>"
      ],
      "text/plain": [
       "   BEDCERT  RESTOT  OVERALL_RATING  SURVEY_RATING  QUALITY_RATING  \\\n",
       "0     57.0    51.5             5.0            5.0             5.0   \n",
       "3     92.0    79.8             2.0            2.0             4.0   \n",
       "4    103.0    98.1             3.0            3.0             4.0   \n",
       "5    149.0   119.7             5.0            3.0             5.0   \n",
       "6    124.0    96.0             5.0            4.0             5.0   \n",
       "\n",
       "   STAFFING_RATING  RN_STAFFING_RATING   AIDHRD   VOCHRD    RNHRD  \\\n",
       "0              4.0                 4.0  3.43572  1.16495  0.66830   \n",
       "3              3.0                 3.0  2.32722  0.82104  0.52177   \n",
       "4              3.0                 2.0  2.33617  0.92407  0.23493   \n",
       "5              4.0                 3.0  2.57869  1.01443  0.41055   \n",
       "6              3.0                 4.0  1.99985  0.62768  0.59598   \n",
       "\n",
       "        ...        ADJ_AIDE  ADJ_LPN   ADJ_RN  ADJ_TOTAL  INCIDENT_CNT  \\\n",
       "0       ...         3.11741  1.24750  0.83853    5.13047           0.0   \n",
       "3       ...         2.40074  0.86962  0.56463    3.83026           0.0   \n",
       "4       ...         2.55126  1.08955  0.30360    3.95709           0.0   \n",
       "5       ...         2.56783  1.04823  0.46444    4.07866           0.0   \n",
       "6       ...         2.12102  0.70311  0.75448    3.52979           1.0   \n",
       "\n",
       "   CMPLNT_CNT  FINE_CNT  FINE_TOT  PAYDEN_CNT  TOT_PENLTY_CNT  \n",
       "0         0.0       0.0       0.0         0.0             0.0  \n",
       "3         1.0       0.0       0.0         0.0             0.0  \n",
       "4         0.0       0.0       0.0         0.0             0.0  \n",
       "5         1.0       0.0       0.0         0.0             0.0  \n",
       "6         1.0       0.0       0.0         0.0             0.0  \n",
       "\n",
       "[5 rows x 27 columns]"
      ]
     },
     "execution_count": 6,
     "metadata": {},
     "output_type": "execute_result"
    }
   ],
   "source": [
    "df_numeric.replace([\"NaN\", 'NaT'], np.nan, inplace = True)\n",
    "cleaned_df= df_numeric.dropna(how='any', axis = 0)\n",
    "cleaned_df.head()"
   ]
  },
  {
   "cell_type": "markdown",
   "metadata": {},
   "source": [
    "# Create Train & Test (80/20)"
   ]
  },
  {
   "cell_type": "code",
   "execution_count": 7,
   "metadata": {},
   "outputs": [],
   "source": [
    "#define predictors to not be OVERALL_RATING\n",
    "predictors = [col for col in cleaned_df.columns if col != 'OVERALL_RATING']\n",
    "\n",
    "#create working dataframes\n",
    "dfX = np.array(cleaned_df[predictors])\n",
    "dfy = np.array(cleaned_df['OVERALL_RATING'])\n",
    "\n",
    "\n",
    "#Build train & test using sklearn's train_test_split function\n",
    "X_train, X_test, y_train, y_test = train_test_split(dfX, dfy, test_size=0.20, random_state=42)\n"
   ]
  },
  {
   "cell_type": "code",
   "execution_count": 9,
   "metadata": {},
   "outputs": [],
   "source": [
    "#scale the training data\n",
    "scaler_train = StandardScaler(copy=False,with_mean=True, with_std=True)\n",
    "scaler_train.fit(X_train)\n",
    "X_train_scaled = scaler_train.transform(X_train)\n",
    "#scale the testing data using teh same scaler as train\n",
    "X_test_scaled=scaler_train.transform(X_test)"
   ]
  },
  {
   "cell_type": "markdown",
   "metadata": {},
   "source": [
    "# Model 1 - Logistic Regression"
   ]
  },
  {
   "cell_type": "code",
   "execution_count": 10,
   "metadata": {},
   "outputs": [],
   "source": [
    "#actively defined solver & multi-class in order to eliminate warning messages\n",
    "log_reg = LogisticRegression(random_state=2,solver='newton-cg',multi_class='ovr')\n",
    "reg = log_reg.fit(X_train_scaled, y_train)\n",
    "#get the predicted values of yhat\n",
    "yhat_sk = reg.predict(X_test_scaled)"
   ]
  },
  {
   "cell_type": "markdown",
   "metadata": {},
   "source": [
    "## Score"
   ]
  },
  {
   "cell_type": "code",
   "execution_count": 11,
   "metadata": {},
   "outputs": [
    {
     "data": {
      "text/plain": [
       "0.6895604395604396"
      ]
     },
     "execution_count": 11,
     "metadata": {},
     "output_type": "execute_result"
    }
   ],
   "source": [
    "reg.score(X_test_scaled, y_test)"
   ]
  },
  {
   "cell_type": "markdown",
   "metadata": {},
   "source": [
    "## Confusion Matrix"
   ]
  },
  {
   "cell_type": "code",
   "execution_count": 12,
   "metadata": {},
   "outputs": [
    {
     "name": "stdout",
     "output_type": "stream",
     "text": [
      "Confusion matrix, without normalization\n",
      "[[243  65   0   0   0]\n",
      " [ 62 410  97   7   0]\n",
      " [  0 203  64 231   0]\n",
      " [  0  90  16 489  99]\n",
      " [  0   0   0  34 802]]\n"
     ]
    },
    {
     "data": {
      "image/png": "[encoded data removed]",
      "text/plain": [
       "<Figure size 432x288 with 2 Axes>"
      ]
     },
     "metadata": {
      "needs_background": "light"
     },
     "output_type": "display_data"
    }
   ],
   "source": [
    "cm = confusion_matrix(y_test,yhat_sk)\n",
    "\n",
    "#helper function from http://scikit-learn.org/stable/auto_examples/model_selection/plot_confusion_matrix.html\n",
    "def plot_confusion_matrix(cm, classes,\n",
    "                          normalize=False,\n",
    "                          title='Confusion matrix',\n",
    "                          cmap=plt.cm.Blues):\n",
    "    \"\"\"\n",
    "    This function prints and plots the confusion matrix.\n",
    "    Normalization can be applied by setting `normalize=True`.\n",
    "    \"\"\"\n",
    "    if normalize:\n",
    "        cm = cm.astype('float') / cm.sum(axis=1)[:, np.newaxis]\n",
    "        print(\"Normalized confusion matrix\")\n",
    "    else:\n",
    "        print('Confusion matrix, without normalization')\n",
    "\n",
    "    print(cm)\n",
    "\n",
    "    plt.imshow(cm, interpolation='nearest', cmap=cmap)\n",
    "    plt.title(title)\n",
    "    plt.colorbar()\n",
    "    tick_marks = np.arange(len(classes))\n",
    "    plt.xticks(tick_marks, classes, rotation=45)\n",
    "    plt.yticks(tick_marks, classes)\n",
    "\n",
    "    fmt = '.2f' if normalize else 'd'\n",
    "    thresh = cm.max() / 2.\n",
    "    for i, j in itertools.product(range(cm.shape[0]), range(cm.shape[1])):\n",
    "        plt.text(j, i, format(cm[i, j], fmt),\n",
    "                 horizontalalignment=\"center\",\n",
    "                 color=\"white\" if cm[i, j] > thresh else \"black\")\n",
    "\n",
    "    plt.ylabel('True label')\n",
    "    plt.xlabel('Predicted label')\n",
    "    plt.tight_layout()\n",
    "\n",
    "classes = [''+str(i) for i in range(1,6)]\n",
    "plot_confusion_matrix(cm,classes)"
   ]
  },
  {
   "cell_type": "markdown",
   "metadata": {},
   "source": [
    "## Classification Report"
   ]
  },
  {
   "cell_type": "code",
   "execution_count": 13,
   "metadata": {},
   "outputs": [
    {
     "name": "stdout",
     "output_type": "stream",
     "text": [
      "              precision    recall  f1-score   support\n",
      "\n",
      "         1.0       0.80      0.79      0.79       308\n",
      "         2.0       0.53      0.71      0.61       576\n",
      "         3.0       0.36      0.13      0.19       498\n",
      "         4.0       0.64      0.70      0.67       694\n",
      "         5.0       0.89      0.96      0.92       836\n",
      "\n",
      "   micro avg       0.69      0.69      0.69      2912\n",
      "   macro avg       0.64      0.66      0.64      2912\n",
      "weighted avg       0.66      0.69      0.66      2912\n",
      "\n"
     ]
    }
   ],
   "source": [
    "cr = classification_report(y_test,yhat_sk)\n",
    "print(cr)"
   ]
  },
  {
   "cell_type": "markdown",
   "metadata": {},
   "source": [
    "# Model 2 - PCA (2 components) & Logistic Regression"
   ]
  },
  {
   "cell_type": "code",
   "execution_count": 14,
   "metadata": {},
   "outputs": [
    {
     "data": {
      "text/plain": [
       "PCA(copy=True, iterated_power='auto', n_components=2, random_state=None,\n",
       "  svd_solver='auto', tol=0.0, whiten=False)"
      ]
     },
     "execution_count": 14,
     "metadata": {},
     "output_type": "execute_result"
    }
   ],
   "source": [
    "pca2 = PCA(n_components = 2)\n",
    "pca2.fit(X_train_scaled)\n"
   ]
  },
  {
   "cell_type": "code",
   "execution_count": 15,
   "metadata": {},
   "outputs": [],
   "source": [
    "X_train_pca2 = pca2.transform(X_train_scaled) \n",
    "X_test_pca2 = pca2.transform(X_test_scaled)"
   ]
  },
  {
   "cell_type": "code",
   "execution_count": 16,
   "metadata": {},
   "outputs": [],
   "source": [
    "log_reg2 = LogisticRegression(random_state=2,solver='newton-cg',multi_class='ovr')\n",
    "reg2 = log_reg2.fit(X_train_pca2, y_train)\n",
    "yhat_pca = reg2.predict(X_test_pca2)"
   ]
  },
  {
   "cell_type": "markdown",
   "metadata": {},
   "source": [
    "## Score"
   ]
  },
  {
   "cell_type": "code",
   "execution_count": 17,
   "metadata": {
    "scrolled": true
   },
   "outputs": [
    {
     "data": {
      "text/plain": [
       "0.37328296703296704"
      ]
     },
     "execution_count": 17,
     "metadata": {},
     "output_type": "execute_result"
    }
   ],
   "source": [
    "reg2.score(X_test_pca2, y_test)"
   ]
  },
  {
   "cell_type": "markdown",
   "metadata": {},
   "source": [
    "## Confusion Matrix"
   ]
  },
  {
   "cell_type": "code",
   "execution_count": 18,
   "metadata": {},
   "outputs": [
    {
     "name": "stdout",
     "output_type": "stream",
     "text": [
      "Confusion matrix, without normalization\n",
      "[[122 160   0   1  25]\n",
      " [ 97 252   0   0 227]\n",
      " [ 40 198   0   4 256]\n",
      " [ 25 176   0   2 491]\n",
      " [  9 114   0   2 711]]\n"
     ]
    },
    {
     "data": {
      "image/png": "[encoded data removed]",
      "text/plain": [
       "<Figure size 432x288 with 2 Axes>"
      ]
     },
     "metadata": {
      "needs_background": "light"
     },
     "output_type": "display_data"
    }
   ],
   "source": [
    "cm2 = confusion_matrix(y_test,yhat_pca)\n",
    "plot_confusion_matrix(cm2,classes)"
   ]
  },
  {
   "cell_type": "markdown",
   "metadata": {},
   "source": [
    "## Classification Report"
   ]
  },
  {
   "cell_type": "code",
   "execution_count": 19,
   "metadata": {},
   "outputs": [
    {
     "name": "stdout",
     "output_type": "stream",
     "text": [
      "              precision    recall  f1-score   support\n",
      "\n",
      "         1.0       0.42      0.40      0.41       308\n",
      "         2.0       0.28      0.44      0.34       576\n",
      "         3.0       0.00      0.00      0.00       498\n",
      "         4.0       0.22      0.00      0.01       694\n",
      "         5.0       0.42      0.85      0.56       836\n",
      "\n",
      "   micro avg       0.37      0.37      0.37      2912\n",
      "   macro avg       0.27      0.34      0.26      2912\n",
      "weighted avg       0.27      0.37      0.27      2912\n",
      "\n"
     ]
    },
    {
     "name": "stderr",
     "output_type": "stream",
     "text": [
      "C:\\Users\\Bob\\Anaconda3\\lib\\site-packages\\sklearn\\metrics\\classification.py:1143: UndefinedMetricWarning: Precision and F-score are ill-defined and being set to 0.0 in labels with no predicted samples.\n",
      "  'precision', 'predicted', average, warn_for)\n"
     ]
    }
   ],
   "source": [
    "cr2 = classification_report(y_test,yhat_pca)\n",
    "print(cr2)"
   ]
  },
  {
   "cell_type": "markdown",
   "metadata": {},
   "source": [
    "# Model 3 - PCA (16 components) & Logistic Regression"
   ]
  },
  {
   "cell_type": "code",
   "execution_count": 20,
   "metadata": {},
   "outputs": [],
   "source": [
    "pca16 = PCA(n_components = 16)\n",
    "pca16.fit(X_train_scaled)\n",
    "\n",
    "X_train_pca16 = pca16.transform(X_train_scaled) \n",
    "X_test_pca16 = pca16.transform(X_test_scaled)"
   ]
  },
  {
   "cell_type": "markdown",
   "metadata": {},
   "source": [
    "A view of how much variance is explained by each of the principle components."
   ]
  },
  {
   "cell_type": "code",
   "execution_count": 21,
   "metadata": {},
   "outputs": [
    {
     "data": {
      "text/plain": [
       "array([0.23951012, 0.15597368, 0.12584258, 0.1004541 , 0.07143459,\n",
       "       0.04840559, 0.03890235, 0.03651073, 0.03156984, 0.02780621,\n",
       "       0.02662631, 0.02407469, 0.02290829, 0.01931879, 0.0162694 ,\n",
       "       0.00586985])"
      ]
     },
     "execution_count": 21,
     "metadata": {},
     "output_type": "execute_result"
    }
   ],
   "source": [
    "pca16.explained_variance_ratio_"
   ]
  },
  {
   "cell_type": "code",
   "execution_count": 22,
   "metadata": {},
   "outputs": [],
   "source": [
    "log_reg16 = LogisticRegression(random_state=2,solver='newton-cg',multi_class='ovr')\n",
    "reg16 = log_reg.fit(X_train_pca16, y_train)\n",
    "yhat_pca16 = reg.predict(X_test_pca16)"
   ]
  },
  {
   "cell_type": "code",
   "execution_count": 23,
   "metadata": {},
   "outputs": [
    {
     "data": {
      "text/plain": [
       "0.6850961538461539"
      ]
     },
     "execution_count": 23,
     "metadata": {},
     "output_type": "execute_result"
    }
   ],
   "source": [
    "reg16.score(X_test_pca16, y_test)"
   ]
  },
  {
   "cell_type": "code",
   "execution_count": 24,
   "metadata": {},
   "outputs": [
    {
     "name": "stdout",
     "output_type": "stream",
     "text": [
      "Confusion matrix, without normalization\n",
      "[[239  69   0   0   0]\n",
      " [ 62 416  88  10   0]\n",
      " [  0 205  61 232   0]\n",
      " [  0  94   7 476 117]\n",
      " [  0   0   0  33 803]]\n"
     ]
    },
    {
     "data": {
      "image/png": "[encoded data removed]",
      "text/plain": [
       "<Figure size 432x288 with 2 Axes>"
      ]
     },
     "metadata": {
      "needs_background": "light"
     },
     "output_type": "display_data"
    }
   ],
   "source": [
    "cm16 = confusion_matrix(y_test,yhat_pca16)\n",
    "plot_confusion_matrix(cm16,classes)"
   ]
  },
  {
   "cell_type": "code",
   "execution_count": 25,
   "metadata": {},
   "outputs": [
    {
     "name": "stdout",
     "output_type": "stream",
     "text": [
      "              precision    recall  f1-score   support\n",
      "\n",
      "         1.0       0.79      0.78      0.78       308\n",
      "         2.0       0.53      0.72      0.61       576\n",
      "         3.0       0.39      0.12      0.19       498\n",
      "         4.0       0.63      0.69      0.66       694\n",
      "         5.0       0.87      0.96      0.91       836\n",
      "\n",
      "   micro avg       0.69      0.69      0.69      2912\n",
      "   macro avg       0.64      0.65      0.63      2912\n",
      "weighted avg       0.66      0.69      0.66      2912\n",
      "\n"
     ]
    }
   ],
   "source": [
    "cr16 = classification_report(y_test,yhat_pca16)\n",
    "print(cr16)"
   ]
  },
  {
   "cell_type": "markdown",
   "metadata": {},
   "source": [
    "**Between Model #2 and Model #3, which performed the best?**\n",
    "\n",
    "Model 3 performed the best. In examining the PCA, we find that a relatively smaller amount of the variance is captured in the first two principal components."
   ]
  },
  {
   "cell_type": "code",
   "execution_count": 26,
   "metadata": {},
   "outputs": [
    {
     "name": "stdout",
     "output_type": "stream",
     "text": [
      "Fraction of variance explained by the first two principle components 0.40\n",
      "Fraction of variance explained by the sixteen principle components 0.99\n"
     ]
    }
   ],
   "source": [
    "print('Fraction of variance explained by the first two principle components {:.2f}'.format(sum(pca16.explained_variance_ratio_[0:2])))\n",
    "print('Fraction of variance explained by the sixteen principle components {:.2f}'.format(sum(pca16.explained_variance_ratio_[0:16])))\n"
   ]
  },
  {
   "cell_type": "markdown",
   "metadata": {},
   "source": [
    "Model 3 was able to perform much better due to having a much higher amount of variance in which to assign the data."
   ]
  },
  {
   "cell_type": "code",
   "execution_count": null,
   "metadata": {},
   "outputs": [],
   "source": []
  }
 ],
 "metadata": {
  "kernelspec": {
   "display_name": "Python 3",
   "language": "python",
   "name": "python3"
  },
  "language_info": {
   "codemirror_mode": {
    "name": "ipython",
    "version": 3
   },
   "file_extension": ".py",
   "mimetype": "text/x-python",
   "name": "python",
   "nbconvert_exporter": "python",
   "pygments_lexer": "ipython3",
   "version": "3.7.0"
  },
  "toc": {
   "base_numbering": 1,
   "nav_menu": {},
   "number_sections": false,
   "sideBar": true,
   "skip_h1_title": false,
   "title_cell": "Table of Contents",
   "title_sidebar": "Contents",
   "toc_cell": false,
   "toc_position": {},
   "toc_section_display": true,
   "toc_window_display": false
  }
 },
 "nbformat": 4,
 "nbformat_minor": 2
}
